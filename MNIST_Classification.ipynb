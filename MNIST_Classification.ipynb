{
 "cells": [
  {
   "cell_type": "code",
   "execution_count": 1,
   "metadata": {
    "collapsed": true
   },
   "outputs": [
    {
     "name": "stderr",
     "output_type": "stream",
     "text": [
      "/Users/balukesari/PycharmProjects/Image-Classification---PyTorch/venv/lib/python3.9/site-packages/requests/__init__.py:109: RequestsDependencyWarning: urllib3 (1.26.13) or chardet (None)/charset_normalizer (3.0.1) doesn't match a supported version!\n",
      "  warnings.warn(\n"
     ]
    }
   ],
   "source": [
    "import torch\n",
    "import torchvision\n",
    "import torchvision.transforms as transforms"
   ]
  },
  {
   "cell_type": "markdown",
   "source": [],
   "metadata": {
    "collapsed": false
   }
  },
  {
   "cell_type": "code",
   "execution_count": 4,
   "outputs": [
    {
     "name": "stdout",
     "output_type": "stream",
     "text": [
      "True\n",
      "True\n"
     ]
    }
   ],
   "source": [
    "print(torch.backends.mps.is_available())\n",
    "print(torch.backends.mps.is_built())"
   ],
   "metadata": {
    "collapsed": false
   }
  },
  {
   "cell_type": "code",
   "execution_count": 5,
   "outputs": [],
   "source": [
    "device = torch.device(\"mps\")"
   ],
   "metadata": {
    "collapsed": false
   }
  },
  {
   "cell_type": "code",
   "execution_count": 4,
   "outputs": [],
   "source": [
    "import pandas as pd\n",
    "import numpy as np\n",
    "import matplotlib.pyplot as plt"
   ],
   "metadata": {
    "collapsed": false
   }
  },
  {
   "cell_type": "code",
   "execution_count": 8,
   "outputs": [],
   "source": [
    "mnist_train = pd.read_csv('datasets/mnist-in-csv/mnist_train.csv')\n",
    "mnist_test = pd.read_csv('datasets/mnist-in-csv/mnist_test.csv')"
   ],
   "metadata": {
    "collapsed": false
   }
  },
  {
   "cell_type": "code",
   "execution_count": 9,
   "outputs": [
    {
     "data": {
      "text/plain": "((60000, 785), (10000, 785))"
     },
     "execution_count": 9,
     "metadata": {},
     "output_type": "execute_result"
    }
   ],
   "source": [
    "mnist_train.shape, mnist_test.shape"
   ],
   "metadata": {
    "collapsed": false
   }
  },
  {
   "cell_type": "code",
   "execution_count": 10,
   "outputs": [
    {
     "data": {
      "text/plain": "   label  1x1  1x2  1x3  1x4  1x5  1x6  1x7  1x8  1x9  ...  28x19  28x20  \\\n0      5    0    0    0    0    0    0    0    0    0  ...      0      0   \n1      0    0    0    0    0    0    0    0    0    0  ...      0      0   \n2      4    0    0    0    0    0    0    0    0    0  ...      0      0   \n3      1    0    0    0    0    0    0    0    0    0  ...      0      0   \n4      9    0    0    0    0    0    0    0    0    0  ...      0      0   \n\n   28x21  28x22  28x23  28x24  28x25  28x26  28x27  28x28  \n0      0      0      0      0      0      0      0      0  \n1      0      0      0      0      0      0      0      0  \n2      0      0      0      0      0      0      0      0  \n3      0      0      0      0      0      0      0      0  \n4      0      0      0      0      0      0      0      0  \n\n[5 rows x 785 columns]",
      "text/html": "<div>\n<style scoped>\n    .dataframe tbody tr th:only-of-type {\n        vertical-align: middle;\n    }\n\n    .dataframe tbody tr th {\n        vertical-align: top;\n    }\n\n    .dataframe thead th {\n        text-align: right;\n    }\n</style>\n<table border=\"1\" class=\"dataframe\">\n  <thead>\n    <tr style=\"text-align: right;\">\n      <th></th>\n      <th>label</th>\n      <th>1x1</th>\n      <th>1x2</th>\n      <th>1x3</th>\n      <th>1x4</th>\n      <th>1x5</th>\n      <th>1x6</th>\n      <th>1x7</th>\n      <th>1x8</th>\n      <th>1x9</th>\n      <th>...</th>\n      <th>28x19</th>\n      <th>28x20</th>\n      <th>28x21</th>\n      <th>28x22</th>\n      <th>28x23</th>\n      <th>28x24</th>\n      <th>28x25</th>\n      <th>28x26</th>\n      <th>28x27</th>\n      <th>28x28</th>\n    </tr>\n  </thead>\n  <tbody>\n    <tr>\n      <th>0</th>\n      <td>5</td>\n      <td>0</td>\n      <td>0</td>\n      <td>0</td>\n      <td>0</td>\n      <td>0</td>\n      <td>0</td>\n      <td>0</td>\n      <td>0</td>\n      <td>0</td>\n      <td>...</td>\n      <td>0</td>\n      <td>0</td>\n      <td>0</td>\n      <td>0</td>\n      <td>0</td>\n      <td>0</td>\n      <td>0</td>\n      <td>0</td>\n      <td>0</td>\n      <td>0</td>\n    </tr>\n    <tr>\n      <th>1</th>\n      <td>0</td>\n      <td>0</td>\n      <td>0</td>\n      <td>0</td>\n      <td>0</td>\n      <td>0</td>\n      <td>0</td>\n      <td>0</td>\n      <td>0</td>\n      <td>0</td>\n      <td>...</td>\n      <td>0</td>\n      <td>0</td>\n      <td>0</td>\n      <td>0</td>\n      <td>0</td>\n      <td>0</td>\n      <td>0</td>\n      <td>0</td>\n      <td>0</td>\n      <td>0</td>\n    </tr>\n    <tr>\n      <th>2</th>\n      <td>4</td>\n      <td>0</td>\n      <td>0</td>\n      <td>0</td>\n      <td>0</td>\n      <td>0</td>\n      <td>0</td>\n      <td>0</td>\n      <td>0</td>\n      <td>0</td>\n      <td>...</td>\n      <td>0</td>\n      <td>0</td>\n      <td>0</td>\n      <td>0</td>\n      <td>0</td>\n      <td>0</td>\n      <td>0</td>\n      <td>0</td>\n      <td>0</td>\n      <td>0</td>\n    </tr>\n    <tr>\n      <th>3</th>\n      <td>1</td>\n      <td>0</td>\n      <td>0</td>\n      <td>0</td>\n      <td>0</td>\n      <td>0</td>\n      <td>0</td>\n      <td>0</td>\n      <td>0</td>\n      <td>0</td>\n      <td>...</td>\n      <td>0</td>\n      <td>0</td>\n      <td>0</td>\n      <td>0</td>\n      <td>0</td>\n      <td>0</td>\n      <td>0</td>\n      <td>0</td>\n      <td>0</td>\n      <td>0</td>\n    </tr>\n    <tr>\n      <th>4</th>\n      <td>9</td>\n      <td>0</td>\n      <td>0</td>\n      <td>0</td>\n      <td>0</td>\n      <td>0</td>\n      <td>0</td>\n      <td>0</td>\n      <td>0</td>\n      <td>0</td>\n      <td>...</td>\n      <td>0</td>\n      <td>0</td>\n      <td>0</td>\n      <td>0</td>\n      <td>0</td>\n      <td>0</td>\n      <td>0</td>\n      <td>0</td>\n      <td>0</td>\n      <td>0</td>\n    </tr>\n  </tbody>\n</table>\n<p>5 rows × 785 columns</p>\n</div>"
     },
     "execution_count": 10,
     "metadata": {},
     "output_type": "execute_result"
    }
   ],
   "source": [
    "mnist_train.head()"
   ],
   "metadata": {
    "collapsed": false
   }
  },
  {
   "cell_type": "code",
   "execution_count": 16,
   "outputs": [],
   "source": [
    "img = mnist_train[1:2]\n",
    "img = img.drop('label', axis=1)"
   ],
   "metadata": {
    "collapsed": false
   }
  },
  {
   "cell_type": "code",
   "execution_count": 17,
   "outputs": [
    {
     "data": {
      "text/plain": "array([[  0,   0,   0,   0,   0,   0,   0,   0,   0,   0,   0,   0,   0,\n          0,   0,   0,   0,   0,   0,   0,   0,   0,   0,   0,   0,   0,\n          0,   0,   0,   0,   0,   0,   0,   0,   0,   0,   0,   0,   0,\n          0,   0,   0,   0,   0,   0,   0,   0,   0,   0,   0,   0,   0,\n          0,   0,   0,   0,   0,   0,   0,   0,   0,   0,   0,   0,   0,\n          0,   0,   0,   0,   0,   0,   0,   0,   0,   0,   0,   0,   0,\n          0,   0,   0,   0,   0,   0,   0,   0,   0,   0,   0,   0,   0,\n          0,   0,   0,   0,   0,   0,   0,   0,   0,   0,   0,   0,   0,\n          0,   0,   0,   0,   0,   0,   0,   0,   0,   0,   0,   0,   0,\n          0,   0,   0,   0,   0,   0,   0,   0,   0,   0,  51, 159, 253,\n        159,  50,   0,   0,   0,   0,   0,   0,   0,   0,   0,   0,   0,\n          0,   0,   0,   0,   0,   0,   0,   0,   0,   0,   0,  48, 238,\n        252, 252, 252, 237,   0,   0,   0,   0,   0,   0,   0,   0,   0,\n          0,   0,   0,   0,   0,   0,   0,   0,   0,   0,   0,   0,  54,\n        227, 253, 252, 239, 233, 252,  57,   6,   0,   0,   0,   0,   0,\n          0,   0,   0,   0,   0,   0,   0,   0,   0,   0,   0,   0,  10,\n         60, 224, 252, 253, 252, 202,  84, 252, 253, 122,   0,   0,   0,\n          0,   0,   0,   0,   0,   0,   0,   0,   0,   0,   0,   0,   0,\n          0, 163, 252, 252, 252, 253, 252, 252,  96, 189, 253, 167,   0,\n          0,   0,   0,   0,   0,   0,   0,   0,   0,   0,   0,   0,   0,\n          0,   0,  51, 238, 253, 253, 190, 114, 253, 228,  47,  79, 255,\n        168,   0,   0,   0,   0,   0,   0,   0,   0,   0,   0,   0,   0,\n          0,   0,   0,  48, 238, 252, 252, 179,  12,  75, 121,  21,   0,\n          0, 253, 243,  50,   0,   0,   0,   0,   0,   0,   0,   0,   0,\n          0,   0,   0,   0,  38, 165, 253, 233, 208,  84,   0,   0,   0,\n          0,   0,   0, 253, 252, 165,   0,   0,   0,   0,   0,   0,   0,\n          0,   0,   0,   0,   0,   7, 178, 252, 240,  71,  19,  28,   0,\n          0,   0,   0,   0,   0, 253, 252, 195,   0,   0,   0,   0,   0,\n          0,   0,   0,   0,   0,   0,   0,  57, 252, 252,  63,   0,   0,\n          0,   0,   0,   0,   0,   0,   0, 253, 252, 195,   0,   0,   0,\n          0,   0,   0,   0,   0,   0,   0,   0,   0, 198, 253, 190,   0,\n          0,   0,   0,   0,   0,   0,   0,   0,   0, 255, 253, 196,   0,\n          0,   0,   0,   0,   0,   0,   0,   0,   0,   0,  76, 246, 252,\n        112,   0,   0,   0,   0,   0,   0,   0,   0,   0,   0, 253, 252,\n        148,   0,   0,   0,   0,   0,   0,   0,   0,   0,   0,   0,  85,\n        252, 230,  25,   0,   0,   0,   0,   0,   0,   0,   0,   7, 135,\n        253, 186,  12,   0,   0,   0,   0,   0,   0,   0,   0,   0,   0,\n          0,  85, 252, 223,   0,   0,   0,   0,   0,   0,   0,   0,   7,\n        131, 252, 225,  71,   0,   0,   0,   0,   0,   0,   0,   0,   0,\n          0,   0,   0,  85, 252, 145,   0,   0,   0,   0,   0,   0,   0,\n         48, 165, 252, 173,   0,   0,   0,   0,   0,   0,   0,   0,   0,\n          0,   0,   0,   0,   0,  86, 253, 225,   0,   0,   0,   0,   0,\n          0, 114, 238, 253, 162,   0,   0,   0,   0,   0,   0,   0,   0,\n          0,   0,   0,   0,   0,   0,   0,  85, 252, 249, 146,  48,  29,\n         85, 178, 225, 253, 223, 167,  56,   0,   0,   0,   0,   0,   0,\n          0,   0,   0,   0,   0,   0,   0,   0,   0,  85, 252, 252, 252,\n        229, 215, 252, 252, 252, 196, 130,   0,   0,   0,   0,   0,   0,\n          0,   0,   0,   0,   0,   0,   0,   0,   0,   0,   0,  28, 199,\n        252, 252, 253, 252, 252, 233, 145,   0,   0,   0,   0,   0,   0,\n          0,   0,   0,   0,   0,   0,   0,   0,   0,   0,   0,   0,   0,\n          0,  25, 128, 252, 253, 252, 141,  37,   0,   0,   0,   0,   0,\n          0,   0,   0,   0,   0,   0,   0,   0,   0,   0,   0,   0,   0,\n          0,   0,   0,   0,   0,   0,   0,   0,   0,   0,   0,   0,   0,\n          0,   0,   0,   0,   0,   0,   0,   0,   0,   0,   0,   0,   0,\n          0,   0,   0,   0,   0,   0,   0,   0,   0,   0,   0,   0,   0,\n          0,   0,   0,   0,   0,   0,   0,   0,   0,   0,   0,   0,   0,\n          0,   0,   0,   0,   0,   0,   0,   0,   0,   0,   0,   0,   0,\n          0,   0,   0,   0,   0,   0,   0,   0,   0,   0,   0,   0,   0,\n          0,   0,   0,   0,   0,   0,   0,   0,   0,   0,   0,   0,   0,\n          0,   0,   0,   0,   0,   0,   0,   0,   0,   0,   0,   0,   0,\n          0,   0,   0,   0]])"
     },
     "execution_count": 17,
     "metadata": {},
     "output_type": "execute_result"
    }
   ],
   "source": [
    "img = img.values\n",
    "img"
   ],
   "metadata": {
    "collapsed": false
   }
  },
  {
   "cell_type": "code",
   "execution_count": 18,
   "outputs": [
    {
     "data": {
      "text/plain": "array([[[  0,   0,   0,   0,   0,   0,   0,   0,   0,   0,   0,   0,\n           0,   0,   0,   0,   0,   0,   0,   0,   0,   0,   0,   0,\n           0,   0,   0,   0],\n        [  0,   0,   0,   0,   0,   0,   0,   0,   0,   0,   0,   0,\n           0,   0,   0,   0,   0,   0,   0,   0,   0,   0,   0,   0,\n           0,   0,   0,   0],\n        [  0,   0,   0,   0,   0,   0,   0,   0,   0,   0,   0,   0,\n           0,   0,   0,   0,   0,   0,   0,   0,   0,   0,   0,   0,\n           0,   0,   0,   0],\n        [  0,   0,   0,   0,   0,   0,   0,   0,   0,   0,   0,   0,\n           0,   0,   0,   0,   0,   0,   0,   0,   0,   0,   0,   0,\n           0,   0,   0,   0],\n        [  0,   0,   0,   0,   0,   0,   0,   0,   0,   0,   0,   0,\n           0,   0,   0,  51, 159, 253, 159,  50,   0,   0,   0,   0,\n           0,   0,   0,   0],\n        [  0,   0,   0,   0,   0,   0,   0,   0,   0,   0,   0,   0,\n           0,   0,  48, 238, 252, 252, 252, 237,   0,   0,   0,   0,\n           0,   0,   0,   0],\n        [  0,   0,   0,   0,   0,   0,   0,   0,   0,   0,   0,   0,\n           0,  54, 227, 253, 252, 239, 233, 252,  57,   6,   0,   0,\n           0,   0,   0,   0],\n        [  0,   0,   0,   0,   0,   0,   0,   0,   0,   0,   0,  10,\n          60, 224, 252, 253, 252, 202,  84, 252, 253, 122,   0,   0,\n           0,   0,   0,   0],\n        [  0,   0,   0,   0,   0,   0,   0,   0,   0,   0,   0, 163,\n         252, 252, 252, 253, 252, 252,  96, 189, 253, 167,   0,   0,\n           0,   0,   0,   0],\n        [  0,   0,   0,   0,   0,   0,   0,   0,   0,   0,  51, 238,\n         253, 253, 190, 114, 253, 228,  47,  79, 255, 168,   0,   0,\n           0,   0,   0,   0],\n        [  0,   0,   0,   0,   0,   0,   0,   0,   0,  48, 238, 252,\n         252, 179,  12,  75, 121,  21,   0,   0, 253, 243,  50,   0,\n           0,   0,   0,   0],\n        [  0,   0,   0,   0,   0,   0,   0,   0,  38, 165, 253, 233,\n         208,  84,   0,   0,   0,   0,   0,   0, 253, 252, 165,   0,\n           0,   0,   0,   0],\n        [  0,   0,   0,   0,   0,   0,   0,   7, 178, 252, 240,  71,\n          19,  28,   0,   0,   0,   0,   0,   0, 253, 252, 195,   0,\n           0,   0,   0,   0],\n        [  0,   0,   0,   0,   0,   0,   0,  57, 252, 252,  63,   0,\n           0,   0,   0,   0,   0,   0,   0,   0, 253, 252, 195,   0,\n           0,   0,   0,   0],\n        [  0,   0,   0,   0,   0,   0,   0, 198, 253, 190,   0,   0,\n           0,   0,   0,   0,   0,   0,   0,   0, 255, 253, 196,   0,\n           0,   0,   0,   0],\n        [  0,   0,   0,   0,   0,   0,  76, 246, 252, 112,   0,   0,\n           0,   0,   0,   0,   0,   0,   0,   0, 253, 252, 148,   0,\n           0,   0,   0,   0],\n        [  0,   0,   0,   0,   0,   0,  85, 252, 230,  25,   0,   0,\n           0,   0,   0,   0,   0,   0,   7, 135, 253, 186,  12,   0,\n           0,   0,   0,   0],\n        [  0,   0,   0,   0,   0,   0,  85, 252, 223,   0,   0,   0,\n           0,   0,   0,   0,   0,   7, 131, 252, 225,  71,   0,   0,\n           0,   0,   0,   0],\n        [  0,   0,   0,   0,   0,   0,  85, 252, 145,   0,   0,   0,\n           0,   0,   0,   0,  48, 165, 252, 173,   0,   0,   0,   0,\n           0,   0,   0,   0],\n        [  0,   0,   0,   0,   0,   0,  86, 253, 225,   0,   0,   0,\n           0,   0,   0, 114, 238, 253, 162,   0,   0,   0,   0,   0,\n           0,   0,   0,   0],\n        [  0,   0,   0,   0,   0,   0,  85, 252, 249, 146,  48,  29,\n          85, 178, 225, 253, 223, 167,  56,   0,   0,   0,   0,   0,\n           0,   0,   0,   0],\n        [  0,   0,   0,   0,   0,   0,  85, 252, 252, 252, 229, 215,\n         252, 252, 252, 196, 130,   0,   0,   0,   0,   0,   0,   0,\n           0,   0,   0,   0],\n        [  0,   0,   0,   0,   0,   0,  28, 199, 252, 252, 253, 252,\n         252, 233, 145,   0,   0,   0,   0,   0,   0,   0,   0,   0,\n           0,   0,   0,   0],\n        [  0,   0,   0,   0,   0,   0,   0,  25, 128, 252, 253, 252,\n         141,  37,   0,   0,   0,   0,   0,   0,   0,   0,   0,   0,\n           0,   0,   0,   0],\n        [  0,   0,   0,   0,   0,   0,   0,   0,   0,   0,   0,   0,\n           0,   0,   0,   0,   0,   0,   0,   0,   0,   0,   0,   0,\n           0,   0,   0,   0],\n        [  0,   0,   0,   0,   0,   0,   0,   0,   0,   0,   0,   0,\n           0,   0,   0,   0,   0,   0,   0,   0,   0,   0,   0,   0,\n           0,   0,   0,   0],\n        [  0,   0,   0,   0,   0,   0,   0,   0,   0,   0,   0,   0,\n           0,   0,   0,   0,   0,   0,   0,   0,   0,   0,   0,   0,\n           0,   0,   0,   0],\n        [  0,   0,   0,   0,   0,   0,   0,   0,   0,   0,   0,   0,\n           0,   0,   0,   0,   0,   0,   0,   0,   0,   0,   0,   0,\n           0,   0,   0,   0]]])"
     },
     "execution_count": 18,
     "metadata": {},
     "output_type": "execute_result"
    }
   ],
   "source": [
    "img = img.reshape(1, 28,28)\n",
    "img"
   ],
   "metadata": {
    "collapsed": false
   }
  },
  {
   "cell_type": "code",
   "execution_count": 19,
   "outputs": [
    {
     "data": {
      "text/plain": "array([[  0,   0,   0,   0,   0,   0,   0,   0,   0,   0,   0,   0,   0,\n          0,   0,   0,   0,   0,   0,   0,   0,   0,   0,   0,   0,   0,\n          0,   0],\n       [  0,   0,   0,   0,   0,   0,   0,   0,   0,   0,   0,   0,   0,\n          0,   0,   0,   0,   0,   0,   0,   0,   0,   0,   0,   0,   0,\n          0,   0],\n       [  0,   0,   0,   0,   0,   0,   0,   0,   0,   0,   0,   0,   0,\n          0,   0,   0,   0,   0,   0,   0,   0,   0,   0,   0,   0,   0,\n          0,   0],\n       [  0,   0,   0,   0,   0,   0,   0,   0,   0,   0,   0,   0,   0,\n          0,   0,   0,   0,   0,   0,   0,   0,   0,   0,   0,   0,   0,\n          0,   0],\n       [  0,   0,   0,   0,   0,   0,   0,   0,   0,   0,   0,   0,   0,\n          0,   0,  51, 159, 253, 159,  50,   0,   0,   0,   0,   0,   0,\n          0,   0],\n       [  0,   0,   0,   0,   0,   0,   0,   0,   0,   0,   0,   0,   0,\n          0,  48, 238, 252, 252, 252, 237,   0,   0,   0,   0,   0,   0,\n          0,   0],\n       [  0,   0,   0,   0,   0,   0,   0,   0,   0,   0,   0,   0,   0,\n         54, 227, 253, 252, 239, 233, 252,  57,   6,   0,   0,   0,   0,\n          0,   0],\n       [  0,   0,   0,   0,   0,   0,   0,   0,   0,   0,   0,  10,  60,\n        224, 252, 253, 252, 202,  84, 252, 253, 122,   0,   0,   0,   0,\n          0,   0],\n       [  0,   0,   0,   0,   0,   0,   0,   0,   0,   0,   0, 163, 252,\n        252, 252, 253, 252, 252,  96, 189, 253, 167,   0,   0,   0,   0,\n          0,   0],\n       [  0,   0,   0,   0,   0,   0,   0,   0,   0,   0,  51, 238, 253,\n        253, 190, 114, 253, 228,  47,  79, 255, 168,   0,   0,   0,   0,\n          0,   0],\n       [  0,   0,   0,   0,   0,   0,   0,   0,   0,  48, 238, 252, 252,\n        179,  12,  75, 121,  21,   0,   0, 253, 243,  50,   0,   0,   0,\n          0,   0],\n       [  0,   0,   0,   0,   0,   0,   0,   0,  38, 165, 253, 233, 208,\n         84,   0,   0,   0,   0,   0,   0, 253, 252, 165,   0,   0,   0,\n          0,   0],\n       [  0,   0,   0,   0,   0,   0,   0,   7, 178, 252, 240,  71,  19,\n         28,   0,   0,   0,   0,   0,   0, 253, 252, 195,   0,   0,   0,\n          0,   0],\n       [  0,   0,   0,   0,   0,   0,   0,  57, 252, 252,  63,   0,   0,\n          0,   0,   0,   0,   0,   0,   0, 253, 252, 195,   0,   0,   0,\n          0,   0],\n       [  0,   0,   0,   0,   0,   0,   0, 198, 253, 190,   0,   0,   0,\n          0,   0,   0,   0,   0,   0,   0, 255, 253, 196,   0,   0,   0,\n          0,   0],\n       [  0,   0,   0,   0,   0,   0,  76, 246, 252, 112,   0,   0,   0,\n          0,   0,   0,   0,   0,   0,   0, 253, 252, 148,   0,   0,   0,\n          0,   0],\n       [  0,   0,   0,   0,   0,   0,  85, 252, 230,  25,   0,   0,   0,\n          0,   0,   0,   0,   0,   7, 135, 253, 186,  12,   0,   0,   0,\n          0,   0],\n       [  0,   0,   0,   0,   0,   0,  85, 252, 223,   0,   0,   0,   0,\n          0,   0,   0,   0,   7, 131, 252, 225,  71,   0,   0,   0,   0,\n          0,   0],\n       [  0,   0,   0,   0,   0,   0,  85, 252, 145,   0,   0,   0,   0,\n          0,   0,   0,  48, 165, 252, 173,   0,   0,   0,   0,   0,   0,\n          0,   0],\n       [  0,   0,   0,   0,   0,   0,  86, 253, 225,   0,   0,   0,   0,\n          0,   0, 114, 238, 253, 162,   0,   0,   0,   0,   0,   0,   0,\n          0,   0],\n       [  0,   0,   0,   0,   0,   0,  85, 252, 249, 146,  48,  29,  85,\n        178, 225, 253, 223, 167,  56,   0,   0,   0,   0,   0,   0,   0,\n          0,   0],\n       [  0,   0,   0,   0,   0,   0,  85, 252, 252, 252, 229, 215, 252,\n        252, 252, 196, 130,   0,   0,   0,   0,   0,   0,   0,   0,   0,\n          0,   0],\n       [  0,   0,   0,   0,   0,   0,  28, 199, 252, 252, 253, 252, 252,\n        233, 145,   0,   0,   0,   0,   0,   0,   0,   0,   0,   0,   0,\n          0,   0],\n       [  0,   0,   0,   0,   0,   0,   0,  25, 128, 252, 253, 252, 141,\n         37,   0,   0,   0,   0,   0,   0,   0,   0,   0,   0,   0,   0,\n          0,   0],\n       [  0,   0,   0,   0,   0,   0,   0,   0,   0,   0,   0,   0,   0,\n          0,   0,   0,   0,   0,   0,   0,   0,   0,   0,   0,   0,   0,\n          0,   0],\n       [  0,   0,   0,   0,   0,   0,   0,   0,   0,   0,   0,   0,   0,\n          0,   0,   0,   0,   0,   0,   0,   0,   0,   0,   0,   0,   0,\n          0,   0],\n       [  0,   0,   0,   0,   0,   0,   0,   0,   0,   0,   0,   0,   0,\n          0,   0,   0,   0,   0,   0,   0,   0,   0,   0,   0,   0,   0,\n          0,   0],\n       [  0,   0,   0,   0,   0,   0,   0,   0,   0,   0,   0,   0,   0,\n          0,   0,   0,   0,   0,   0,   0,   0,   0,   0,   0,   0,   0,\n          0,   0]])"
     },
     "execution_count": 19,
     "metadata": {},
     "output_type": "execute_result"
    }
   ],
   "source": [
    "img = img.squeeze()\n",
    "img"
   ],
   "metadata": {
    "collapsed": false
   }
  },
  {
   "cell_type": "code",
   "execution_count": 20,
   "outputs": [
    {
     "data": {
      "text/plain": "<matplotlib.image.AxesImage at 0x136757910>"
     },
     "execution_count": 20,
     "metadata": {},
     "output_type": "execute_result"
    },
    {
     "data": {
      "text/plain": "<Figure size 600x600 with 1 Axes>",
      "image/png": "[encoded data removed]"
     },
     "metadata": {},
     "output_type": "display_data"
    }
   ],
   "source": [
    "plt.figure(figsize=(6,6))\n",
    "plt.imshow(img)"
   ],
   "metadata": {
    "collapsed": false
   }
  },
  {
   "cell_type": "code",
   "execution_count": null,
   "outputs": [],
   "source": [],
   "metadata": {
    "collapsed": false
   }
  }
 ],
 "metadata": {
  "kernelspec": {
   "display_name": "Python 3",
   "language": "python",
   "name": "python3"
  },
  "language_info": {
   "codemirror_mode": {
    "name": "ipython",
    "version": 2
   },
   "file_extension": ".py",
   "mimetype": "text/x-python",
   "name": "python",
   "nbconvert_exporter": "python",
   "pygments_lexer": "ipython2",
   "version": "2.7.6"
  }
 },
 "nbformat": 4,
 "nbformat_minor": 0
}
