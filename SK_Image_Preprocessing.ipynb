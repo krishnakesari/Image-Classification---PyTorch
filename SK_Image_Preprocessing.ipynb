{
 "cells": [
  {
   "cell_type": "code",
   "execution_count": 1,
   "metadata": {
    "collapsed": true
   },
   "outputs": [],
   "source": [
    "import skimage\n",
    "from skimage import data\n",
    "import numpy as np\n",
    "\n",
    "import matplotlib.pyplot as plt\n",
    "import matplotlib.image as mpimg"
   ]
  },
  {
   "cell_type": "code",
   "execution_count": 2,
   "outputs": [
    {
     "ename": "FileNotFoundError",
     "evalue": "[Errno 2] No such file or directory: 'datasets/images/bird.jpeg'",
     "output_type": "error",
     "traceback": [
      "\u001B[0;31m---------------------------------------------------------------------------\u001B[0m",
      "\u001B[0;31mFileNotFoundError\u001B[0m                         Traceback (most recent call last)",
      "Cell \u001B[0;32mIn[2], line 1\u001B[0m\n\u001B[0;32m----> 1\u001B[0m bird \u001B[38;5;241m=\u001B[39m \u001B[43mmpimg\u001B[49m\u001B[38;5;241;43m.\u001B[39;49m\u001B[43mimread\u001B[49m\u001B[43m(\u001B[49m\u001B[38;5;124;43m\"\u001B[39;49m\u001B[38;5;124;43mdatasets/images/bird.jpeg\u001B[39;49m\u001B[38;5;124;43m\"\u001B[39;49m\u001B[43m)\u001B[49m\n",
      "File \u001B[0;32m~/PycharmProjects/Image-Classification---PyTorch/venv/lib/python3.10/site-packages/matplotlib/image.py:1541\u001B[0m, in \u001B[0;36mimread\u001B[0;34m(fname, format)\u001B[0m\n\u001B[1;32m   1534\u001B[0m \u001B[38;5;28;01mif\u001B[39;00m \u001B[38;5;28misinstance\u001B[39m(fname, \u001B[38;5;28mstr\u001B[39m) \u001B[38;5;129;01mand\u001B[39;00m \u001B[38;5;28mlen\u001B[39m(parse\u001B[38;5;241m.\u001B[39murlparse(fname)\u001B[38;5;241m.\u001B[39mscheme) \u001B[38;5;241m>\u001B[39m \u001B[38;5;241m1\u001B[39m:\n\u001B[1;32m   1535\u001B[0m     \u001B[38;5;66;03m# Pillow doesn't handle URLs directly.\u001B[39;00m\n\u001B[1;32m   1536\u001B[0m     \u001B[38;5;28;01mraise\u001B[39;00m \u001B[38;5;167;01mValueError\u001B[39;00m(\n\u001B[1;32m   1537\u001B[0m         \u001B[38;5;124m\"\u001B[39m\u001B[38;5;124mPlease open the URL for reading and pass the \u001B[39m\u001B[38;5;124m\"\u001B[39m\n\u001B[1;32m   1538\u001B[0m         \u001B[38;5;124m\"\u001B[39m\u001B[38;5;124mresult to Pillow, e.g. with \u001B[39m\u001B[38;5;124m\"\u001B[39m\n\u001B[1;32m   1539\u001B[0m         \u001B[38;5;124m\"\u001B[39m\u001B[38;5;124m``np.array(PIL.Image.open(urllib.request.urlopen(url)))``.\u001B[39m\u001B[38;5;124m\"\u001B[39m\n\u001B[1;32m   1540\u001B[0m         )\n\u001B[0;32m-> 1541\u001B[0m \u001B[38;5;28;01mwith\u001B[39;00m \u001B[43mimg_open\u001B[49m\u001B[43m(\u001B[49m\u001B[43mfname\u001B[49m\u001B[43m)\u001B[49m \u001B[38;5;28;01mas\u001B[39;00m image:\n\u001B[1;32m   1542\u001B[0m     \u001B[38;5;28;01mreturn\u001B[39;00m (_pil_png_to_float_array(image)\n\u001B[1;32m   1543\u001B[0m             \u001B[38;5;28;01mif\u001B[39;00m \u001B[38;5;28misinstance\u001B[39m(image, PIL\u001B[38;5;241m.\u001B[39mPngImagePlugin\u001B[38;5;241m.\u001B[39mPngImageFile) \u001B[38;5;28;01melse\u001B[39;00m\n\u001B[1;32m   1544\u001B[0m             pil_to_array(image))\n",
      "File \u001B[0;32m~/PycharmProjects/Image-Classification---PyTorch/venv/lib/python3.10/site-packages/PIL/Image.py:3131\u001B[0m, in \u001B[0;36mopen\u001B[0;34m(fp, mode, formats)\u001B[0m\n\u001B[1;32m   3128\u001B[0m     filename \u001B[38;5;241m=\u001B[39m fp\n\u001B[1;32m   3130\u001B[0m \u001B[38;5;28;01mif\u001B[39;00m filename:\n\u001B[0;32m-> 3131\u001B[0m     fp \u001B[38;5;241m=\u001B[39m \u001B[43mbuiltins\u001B[49m\u001B[38;5;241;43m.\u001B[39;49m\u001B[43mopen\u001B[49m\u001B[43m(\u001B[49m\u001B[43mfilename\u001B[49m\u001B[43m,\u001B[49m\u001B[43m \u001B[49m\u001B[38;5;124;43m\"\u001B[39;49m\u001B[38;5;124;43mrb\u001B[39;49m\u001B[38;5;124;43m\"\u001B[39;49m\u001B[43m)\u001B[49m\n\u001B[1;32m   3132\u001B[0m     exclusive_fp \u001B[38;5;241m=\u001B[39m \u001B[38;5;28;01mTrue\u001B[39;00m\n\u001B[1;32m   3134\u001B[0m \u001B[38;5;28;01mtry\u001B[39;00m:\n",
      "\u001B[0;31mFileNotFoundError\u001B[0m: [Errno 2] No such file or directory: 'datasets/images/bird.jpeg'"
     ]
    }
   ],
   "source": [
    "bird = mpimg.imread(\"datasets/images/bird.jpeg\")"
   ],
   "metadata": {
    "collapsed": false
   }
  },
  {
   "cell_type": "code",
   "execution_count": null,
   "outputs": [],
   "source": [
    "plt.figure(figsize=(3,3))\n",
    "plt.title('Original Image')\n",
    "plt.imshow(bird)"
   ],
   "metadata": {
    "collapsed": false
   }
  },
  {
   "cell_type": "code",
   "execution_count": null,
   "outputs": [],
   "source": [
    "bird.shape"
   ],
   "metadata": {
    "collapsed": false
   }
  },
  {
   "cell_type": "code",
   "execution_count": null,
   "outputs": [],
   "source": [
    "# Reshape\n",
    "bird_reshape = bird.reshape(bird.shape[0], -1)\n",
    "bird_reshape.shape"
   ],
   "metadata": {
    "collapsed": false
   }
  },
  {
   "cell_type": "code",
   "execution_count": null,
   "outputs": [],
   "source": [
    "plt.figure(figsize=(3,3))\n",
    "plt.title('Reshaped Image')\n",
    "plt.imshow(bird_reshape)"
   ],
   "metadata": {
    "collapsed": false
   }
  },
  {
   "cell_type": "code",
   "execution_count": null,
   "outputs": [],
   "source": [
    "bird_resized = skimage.transform.resize(bird, (500, 500))\n",
    "\n",
    "plt.figure(figsize=(3,3))\n",
    "plt.title('Resized Image')\n",
    "plt.imshow(bird_resized)\n",
    "\n",
    "print(\"Shape: \", bird_resized.shape)"
   ],
   "metadata": {
    "collapsed": false
   }
  },
  {
   "cell_type": "code",
   "execution_count": null,
   "outputs": [],
   "source": [
    "aspect_ratio_original = bird.shape[1] / float(bird.shape[0])\n",
    "aspect_ratio_resized = bird_resized.shape[1] / float(bird_resized.shape[0])\n",
    "\n",
    "print(\"Original aspect ratio: \", aspect_ratio_original)\n",
    "print(\"Resized aspect ratio: \", aspect_ratio_resized)"
   ],
   "metadata": {
    "collapsed": false
   }
  },
  {
   "cell_type": "code",
   "execution_count": null,
   "outputs": [],
   "source": [
    "# Reversion color order from RGB to BGR\n",
    "bird_BGR = bird[:, :, (2,1,0)]\n",
    "\n",
    "plt.figure(figsize=(3,3))\n",
    "plt.title('BGR Image')\n",
    "plt.imshow(bird_BGR)\n",
    "\n",
    "print('Shape: ', bird_BGR.shape)"
   ],
   "metadata": {
    "collapsed": false
   }
  },
  {
   "cell_type": "code",
   "execution_count": null,
   "outputs": [],
   "source": [
    "# Gray scale\n",
    "bird_gray = skimage.color.rgb2gray(bird)\n",
    "\n",
    "plt.figure(figsize=(3,3))\n",
    "plt.title('Gray Image')\n",
    "plt.imshow(bird_gray, cmap='gray')\n",
    "\n",
    "print(\"Shape: \", bird_gray.shape)"
   ],
   "metadata": {
    "collapsed": false
   }
  },
  {
   "cell_type": "code",
   "execution_count": null,
   "outputs": [],
   "source": [
    "# Cropping\n",
    "giraffes = skimage.img_as_float(skimage.io.imread('datasets/images/giraffes.jpg')).astype(np.float32)\n",
    "\n",
    "plt.figure(figsize=(3,3))\n",
    "plt.title('Original Image')\n",
    "plt.imshow(giraffes)\n",
    "\n",
    "print('Shape: ', giraffes.shape)"
   ],
   "metadata": {
    "collapsed": false
   }
  },
  {
   "cell_type": "code",
   "execution_count": null,
   "outputs": [],
   "source": [
    "def crop(image, cropx, cropy):\n",
    "    y, x, c = image.shape\n",
    "\n",
    "    startx = x//2 - (cropx // 8)\n",
    "    starty = y//3 - (cropy // 4)\n",
    "\n",
    "    stopx = startx + cropx\n",
    "    stopy = starty + 2*cropy\n",
    "\n",
    "    return image[starty:stopy, startx:stopx]"
   ],
   "metadata": {
    "collapsed": false
   }
  },
  {
   "cell_type": "code",
   "execution_count": null,
   "outputs": [],
   "source": [
    "giraffes_cropped = crop(giraffes, 256, 256)\n",
    "\n",
    "plt.figure(figsize=(3,3))\n",
    "plt.title('Cropped Image')\n",
    "plt.imshow(giraffes_cropped)"
   ],
   "metadata": {
    "collapsed": false
   }
  },
  {
   "cell_type": "code",
   "execution_count": null,
   "outputs": [],
   "source": [
    "# Denoising images\n",
    "\n",
    "from skimage.util import random_noise"
   ],
   "metadata": {
    "collapsed": false
   }
  },
  {
   "cell_type": "code",
   "execution_count": null,
   "outputs": [],
   "source": [
    "sigma = 0.155\n",
    "noisy_giraffes = random_noise(giraffes, var=sigma**2)\n",
    "\n",
    "plt.figure(figsize=(3,3))\n",
    "plt.title('Image with added noise')\n",
    "plt.imshow(noisy_giraffes)"
   ],
   "metadata": {
    "collapsed": false
   }
  },
  {
   "cell_type": "code",
   "execution_count": null,
   "outputs": [],
   "source": [
    "from skimage.restoration import denoise_tv_chambolle, denoise_bilateral, denoise_wavelet, estimate_sigma"
   ],
   "metadata": {
    "collapsed": false
   }
  },
  {
   "cell_type": "code",
   "execution_count": null,
   "outputs": [],
   "source": [
    "# Estimate the average noise standard deviation across color channels"
   ],
   "metadata": {
    "collapsed": false
   }
  },
  {
   "cell_type": "code",
   "execution_count": null,
   "outputs": [],
   "source": [
    "sigma_est = estimate_sigma(noisy_giraffes,\n",
    "                           multichannel=True,\n",
    "                           average_sigmas=True)\n",
    "sigma_est"
   ],
   "metadata": {
    "collapsed": false
   }
  },
  {
   "cell_type": "code",
   "execution_count": null,
   "outputs": [],
   "source": [
    "plt.figure(figsize=(3,3))\n",
    "plt.imshow(denoise_tv_chambolle(noisy_giraffes,\n",
    "                                weight=0.1,\n",
    "                                multichannel=True))"
   ],
   "metadata": {
    "collapsed": false
   }
  },
  {
   "cell_type": "code",
   "execution_count": null,
   "outputs": [],
   "source": [
    "plt.figure(figsize=(3,3))\n",
    "plt.imshow(denoise_bilateral(noisy_giraffes,\n",
    "                             sigma_color=0.05,\n",
    "                             sigma_spatial=15,\n",
    "                             multichannel=True))"
   ],
   "metadata": {
    "collapsed": false
   }
  },
  {
   "cell_type": "code",
   "execution_count": null,
   "outputs": [],
   "source": [
    "plt.figure(figsize=(3,3))\n",
    "plt.imshow(denoise_wavelet(noisy_giraffes, multichannel=True))"
   ],
   "metadata": {
    "collapsed": false
   }
  },
  {
   "cell_type": "code",
   "execution_count": null,
   "outputs": [],
   "source": [
    "# Augmentation transformations\n",
    "monkeys = skimage.img_as_float(skimage.io.imread('datasets/images/monkeys.jpeg')).astype(np.float32)\n",
    "\n",
    "plt.figure(figsize=(3,3))\n",
    "plt.title('Original Image')\n",
    "plt.imshow(monkeys)"
   ],
   "metadata": {
    "collapsed": false
   }
  },
  {
   "cell_type": "code",
   "execution_count": null,
   "outputs": [],
   "source": [
    "# Horizontal Flip\n",
    "monkeys_flip = np.fliplr(monkeys)\n",
    "\n",
    "plt.figure(figsize=(3,3))\n",
    "plt.title('Horizontal Flip')\n",
    "plt.imshow(monkeys_flip)"
   ],
   "metadata": {
    "collapsed": false
   }
  },
  {
   "cell_type": "code",
   "execution_count": null,
   "outputs": [],
   "source": [
    "# Upside - Down\n",
    "monkeys_ud = np.flipud(monkeys)\n",
    "\n",
    "plt.figure(figsize=(3,3))\n",
    "plt.title('Vertical Flip / Upside - Down')\n",
    "plt.imshow(monkeys_ud)"
   ],
   "metadata": {
    "collapsed": false
   }
  },
  {
   "cell_type": "code",
   "execution_count": null,
   "outputs": [],
   "source": [
    "# Rotation\n",
    "monkeys_rotate = np.rot90(monkeys, 3)\n",
    "plt.figure(figsize=(3,3))\n",
    "plt.title('Rotated Image')\n",
    "plt.imshow(monkeys_rotate)"
   ],
   "metadata": {
    "collapsed": false
   }
  },
  {
   "cell_type": "code",
   "execution_count": null,
   "outputs": [],
   "source": [
    "# Random rotation\n",
    "import random\n",
    "from scipy import ndarray\n",
    "\n",
    "def random_rotation(image_array: ndarray):\n",
    "    random_degree = random.uniform(-25, 25)\n",
    "    return skimage.transform.rotate(image_array, random_degree)"
   ],
   "metadata": {
    "collapsed": false
   }
  },
  {
   "cell_type": "code",
   "execution_count": null,
   "outputs": [],
   "source": [
    "monkeys_angle = random_rotation(monkeys)\n",
    "plt.figure(figsize=(3,3))\n",
    "plt.title(\"Rotated Image\")\n",
    "plt.imshow(monkeys_angle)"
   ],
   "metadata": {
    "collapsed": false
   }
  },
  {
   "cell_type": "code",
   "execution_count": null,
   "outputs": [],
   "source": [
    "# Swirl\n",
    "from skimage.transform import swirl\n",
    "monkeys_swirl = swirl(monkeys, strength=10, radius=210)\n",
    "\n",
    "plt.figure(figsize=(3,3))\n",
    "plt.title('Swirled Image')\n",
    "plt.imshow(monkeys_swirl)"
   ],
   "metadata": {
    "collapsed": false
   }
  },
  {
   "cell_type": "code",
   "execution_count": null,
   "outputs": [],
   "source": [],
   "metadata": {
    "collapsed": false
   }
  }
 ],
 "metadata": {
  "kernelspec": {
   "display_name": "Python 3",
   "language": "python",
   "name": "python3"
  },
  "language_info": {
   "codemirror_mode": {
    "name": "ipython",
    "version": 2
   },
   "file_extension": ".py",
   "mimetype": "text/x-python",
   "name": "python",
   "nbconvert_exporter": "python",
   "pygments_lexer": "ipython2",
   "version": "2.7.6"
  }
 },
 "nbformat": 4,
 "nbformat_minor": 0
}
